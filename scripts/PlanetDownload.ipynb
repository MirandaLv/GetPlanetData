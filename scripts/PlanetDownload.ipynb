{
 "cells": [
  {
   "cell_type": "code",
   "execution_count": 4,
   "id": "cbd073a0",
   "metadata": {},
   "outputs": [],
   "source": [
    "import os\n",
    "import json\n",
    "import requests\n",
    "import geojsonio\n",
    "import time\n",
    "import geopandas as gpd\n",
    "import geojson\n",
    "from os.path import dirname as up\n",
    "import pandas as pd\n",
    "\n",
    "# Helper function to printformatted JSON using the json module\n",
    "def p(data):\n",
    "    print(json.dumps(data, indent=2))\n"
   ]
  },
  {
   "cell_type": "code",
   "execution_count": 5,
   "id": "ae7e37ff",
   "metadata": {},
   "outputs": [],
   "source": [
    "root_path = up(os.getcwd())\n",
    "geom_path = os.path.join(root_path, 'data/bounding1.geojson')\n",
    "\n",
    "with open(geom_path) as f:\n",
    "    geom = geojson.load(f)\n",
    "\n",
    "features = geom['features'][0]\n",
    "test_geom = features['geometry']"
   ]
  },
  {
   "cell_type": "code",
   "execution_count": 6,
   "id": "3982d187",
   "metadata": {},
   "outputs": [
    {
     "data": {
      "text/plain": [
       "200"
      ]
     },
     "execution_count": 6,
     "metadata": {},
     "output_type": "execute_result"
    }
   ],
   "source": [
    "# if your Planet API Key is not set as an environment variable, you can paste it below\n",
    "if os.environ.get('PL_API_KEY', ''):\n",
    "    API_KEY = os.environ.get('PL_API_KEY', '')\n",
    "else:\n",
    "    API_KEY = 'PLAK0cf1acfbb7514297901e134a1e09efcb'\n",
    "\n",
    "# construct auth tuple for use in the requests library\n",
    "BASIC_AUTH = (API_KEY, '')\n",
    "\n",
    "# Setup Planet Data API base URL\n",
    "URL = \"https://api.planet.com/data/v1\"\n",
    "\n",
    "# Setup the session\n",
    "session = requests.Session()\n",
    "\n",
    "# Authenticate\n",
    "session.auth = (API_KEY, \"\")\n",
    "\n",
    "# Make a GET request to the Planet Data API\n",
    "res = session.get(URL)\n",
    "\n",
    "# Response status code\n",
    "res.status_code"
   ]
  },
  {
   "cell_type": "code",
   "execution_count": 119,
   "id": "dc4d5bc8",
   "metadata": {},
   "outputs": [
    {
     "name": "stdout",
     "output_type": "stream",
     "text": [
      "https://api.planet.com/data/v1/stats\n"
     ]
    }
   ],
   "source": [
    "# Setup the stats URL\n",
    "stats_url = \"{}/stats\".format(URL)\n",
    "\n",
    "# Print the stats URL\n",
    "print(stats_url)"
   ]
  },
  {
   "cell_type": "code",
   "execution_count": 7,
   "id": "3fa9f4f2",
   "metadata": {},
   "outputs": [],
   "source": [
    "# Create filter object for all imagery captured after 2019, \n",
    "# and within the given geometry, and with the instrument types\n",
    "\n",
    "# Setup Date Filter\n",
    "date_filter = {\n",
    "    \"type\": \"DateRangeFilter\", # Type of filter -> Date Range\n",
    "    \"field_name\": \"acquired\", # The field to filter on: \"acquired\" -> Date on which the \"image was taken\"\n",
    "    \"config\": {\n",
    "        \"gte\": \"2021-01-01T00:00:00.000Z\", # \"gte\" -> Greater than or equal to\n",
    "        \"lte\": \"2024-03-01T00:00:00.000Z\"\n",
    "    }\n",
    "}\n",
    "\n",
    "\n",
    "# filter any images which are more than 50% clouds\n",
    "cloud_cover_filter = {\n",
    "  \"type\": \"RangeFilter\",\n",
    "  \"field_name\": \"cloud_cover\",\n",
    "  \"config\": {\n",
    "    \"lte\": 0.0\n",
    "  }\n",
    "}\n",
    "\n",
    "\n",
    "# Setup Geometry Filter\n",
    "geometry_filter = {\n",
    "    \"type\": \"GeometryFilter\",\n",
    "    \"field_name\": \"geometry\",\n",
    "    \"config\": test_geom\n",
    "}\n",
    "\n",
    "\n",
    "# permission_filter = {\n",
    "#     \"type\": \"PermissionFilter\",\n",
    "#     \"config\": [\"assets.analytic:download\"]\n",
    "# }\n",
    "\n",
    "\n",
    "# Search for imagery only from PlanetScope satellites that have a PS2 telescope\n",
    "# Setup item types\n",
    "item_types = [\"PSScene\"] #item_types = [\"PSScene\", \"REOrthoTile\"] \n",
    "\n",
    "# Setup a filter for instrument type\n",
    "# Instrument info: # https://developers.planet.com/docs/data/psscene/\n",
    "instrument_filter = {\n",
    "    \"type\": \"StringInFilter\",\n",
    "    \"field_name\": \"instrument\",\n",
    "    \"config\": [\"PSB.SD\"] #, \"PS2\"\n",
    "}\n",
    "\n",
    "# Setup an \"AND\" logical filter\n",
    "and_filter = {\n",
    "    \"type\": \"AndFilter\",\n",
    "    \"config\": [instrument_filter, geometry_filter, date_filter, cloud_cover_filter]\n",
    "}\n",
    "\n",
    "# # Print the logical filter\n",
    "# p(and_filter)"
   ]
  },
  {
   "cell_type": "code",
   "execution_count": 121,
   "id": "5f026162",
   "metadata": {
    "scrolled": true
   },
   "outputs": [
    {
     "name": "stdout",
     "output_type": "stream",
     "text": [
      "{\n",
      "  \"buckets\": [\n",
      "    {\n",
      "      \"count\": 64,\n",
      "      \"start_time\": \"2021-01-01T00:00:00.000000Z\"\n",
      "    },\n",
      "    {\n",
      "      \"count\": 96,\n",
      "      \"start_time\": \"2022-01-01T00:00:00.000000Z\"\n",
      "    },\n",
      "    {\n",
      "      \"count\": 123,\n",
      "      \"start_time\": \"2023-01-01T00:00:00.000000Z\"\n",
      "    },\n",
      "    {\n",
      "      \"count\": 15,\n",
      "      \"start_time\": \"2024-01-01T00:00:00.000000Z\"\n",
      "    }\n",
      "  ],\n",
      "  \"interval\": \"year\",\n",
      "  \"utc_offset\": \"+0h\"\n",
      "}\n"
     ]
    }
   ],
   "source": [
    "# Setup the request\n",
    "request = {\n",
    "    \"item_types\" : item_types,\n",
    "    \"interval\" : \"year\",\n",
    "    \"filter\" : and_filter\n",
    "}\n",
    "\n",
    "# Send the POST request to the API stats endpoint\n",
    "res=session.post(stats_url, json=request)\n",
    "\n",
    "# Print response\n",
    "p(res.json())"
   ]
  },
  {
   "cell_type": "code",
   "execution_count": 91,
   "id": "57634a52",
   "metadata": {},
   "outputs": [
    {
     "data": {
      "text/plain": [
       "[{'count': 64, 'start_time': '2021-01-01T00:00:00.000000Z'},\n",
       " {'count': 96, 'start_time': '2022-01-01T00:00:00.000000Z'},\n",
       " {'count': 123, 'start_time': '2023-01-01T00:00:00.000000Z'},\n",
       " {'count': 15, 'start_time': '2024-01-01T00:00:00.000000Z'}]"
      ]
     },
     "execution_count": 91,
     "metadata": {},
     "output_type": "execute_result"
    }
   ],
   "source": [
    "# organize the request by removing 0 count image\n",
    "\n",
    "def filterOut(injson):\n",
    "    \n",
    "    allsource = injson['buckets']\n",
    "    validsource = list()\n",
    "    \n",
    "    for i in range(0,len(allsource)):\n",
    "        if allsource[i][\"count\"] != 0:\n",
    "            validsource.append(allsource[i])\n",
    "        else:\n",
    "            pass\n",
    "    \n",
    "    return validsource\n",
    "\n",
    "validcount = filterOut(res.json())\n",
    "validcount"
   ]
  },
  {
   "cell_type": "markdown",
   "id": "f873c3b5",
   "metadata": {},
   "source": [
    "## Get all page links"
   ]
  },
  {
   "cell_type": "code",
   "execution_count": 19,
   "id": "4ecb6e07",
   "metadata": {},
   "outputs": [],
   "source": [
    "import json\n",
    "import requests\n",
    "from requests.auth import HTTPBasicAuth\n",
    "\n",
    "item_type = \"PSScene\"\n",
    "\n",
    "# API request object\n",
    "search_request = {\n",
    "  \"item_types\": item_types, \n",
    "  \"filter\": and_filter\n",
    "}\n",
    "\n",
    "# fire off the POST request\n",
    "search_result = \\\n",
    "  requests.post(\n",
    "    'https://api.planet.com/data/v1/quick-search',\n",
    "    auth=HTTPBasicAuth(API_KEY, ''),\n",
    "    json=search_request)\n",
    "\n",
    "\n",
    "geojson = search_result.json()\n",
    "all_pages = list()\n",
    "\n",
    "while geojson['_links']['_next']!=None: # when it's not to the final page\n",
    "        \n",
    "    all_pages.append(geojson['_links']['_self']) # adding the first page link\n",
    "        \n",
    "    next_page = geojson['_links']['_next']\n",
    "\n",
    "    next_info = session.get(next_page)\n",
    "    geojson = next_info.json()\n",
    "\n",
    "\n",
    "# # let's look at the first result\n",
    "# print(list(geojson.items())[1][1][0])"
   ]
  },
  {
   "cell_type": "code",
   "execution_count": 39,
   "id": "498088c9",
   "metadata": {},
   "outputs": [],
   "source": [
    "df = pd.DataFrame()\n",
    "\n",
    "for link in all_pages:\n",
    "\n",
    "    page_info = session.get(link).json()\n",
    "    sub_df = pd.DataFrame(page_info['features'])\n",
    "    df = df.append(sub_df)\n",
    "\n",
    "image_ids = df['id'].tolist()"
   ]
  },
  {
   "cell_type": "code",
   "execution_count": 41,
   "id": "b2e0a7a7",
   "metadata": {},
   "outputs": [
    {
     "name": "stdout",
     "output_type": "stream",
     "text": [
      "dict_keys(['basic_analytic_4b', 'basic_analytic_4b_rpc', 'basic_analytic_4b_xml', 'basic_analytic_8b', 'basic_analytic_8b_xml', 'basic_udm2', 'ortho_analytic_4b', 'ortho_analytic_4b_sr', 'ortho_analytic_4b_xml', 'ortho_analytic_8b', 'ortho_analytic_8b_sr', 'ortho_analytic_8b_xml', 'ortho_udm2', 'ortho_visual'])\n"
     ]
    }
   ],
   "source": [
    "# For demo purposes, just grab the first image ID\n",
    "id0 = image_ids[0]\n",
    "id0_url = 'https://api.planet.com/data/v1/item-types/{}/items/{}/assets'.format(item_type, id0) # 8bands type\n",
    "\n",
    "# Returns JSON metadata for assets in this ID. Learn more: planet.com/docs/reference/data-api/items-assets/#asset\n",
    "result = \\\n",
    "  requests.get(\n",
    "    id0_url,\n",
    "    auth=HTTPBasicAuth(API_KEY, '')\n",
    "  )\n",
    "\n",
    "# List of asset types available for this particular satellite image\n",
    "print(result.json().keys())"
   ]
  },
  {
   "cell_type": "code",
   "execution_count": 43,
   "id": "ffb60781",
   "metadata": {},
   "outputs": [
    {
     "name": "stdout",
     "output_type": "stream",
     "text": [
      "inactive\n"
     ]
    }
   ],
   "source": [
    "# This is \"inactive\" if the \"ortho_analytic_4b\" asset has not yet been activated; otherwise 'active'\n",
    "print(result.json()['ortho_analytic_8b']['status'])"
   ]
  },
  {
   "cell_type": "code",
   "execution_count": 46,
   "id": "8e6fa6ad",
   "metadata": {},
   "outputs": [],
   "source": [
    "# Parse out useful links\n",
    "links = result.json()[u\"ortho_analytic_8b\"][\"_links\"]\n",
    "self_link = links[\"_self\"]\n",
    "activation_link = links[\"activate\"]\n",
    "\n",
    "# Request activation of the 'ortho_analytic_4b' asset:\n",
    "activate_result = \\\n",
    "  requests.get(\n",
    "    activation_link,\n",
    "    auth=HTTPBasicAuth(API_KEY, '')\n",
    "  )"
   ]
  },
  {
   "cell_type": "code",
   "execution_count": 47,
   "id": "c0682599",
   "metadata": {},
   "outputs": [
    {
     "name": "stdout",
     "output_type": "stream",
     "text": [
      "activating\n"
     ]
    }
   ],
   "source": [
    "activation_status_result = \\\n",
    "  requests.get(\n",
    "    self_link,\n",
    "    auth=HTTPBasicAuth(API_KEY, '')\n",
    "  )\n",
    "    \n",
    "print(activation_status_result.json()[\"status\"])"
   ]
  },
  {
   "cell_type": "code",
   "execution_count": null,
   "id": "533c6664",
   "metadata": {},
   "outputs": [],
   "source": []
  },
  {
   "cell_type": "code",
   "execution_count": 48,
   "id": "78ca2a45",
   "metadata": {},
   "outputs": [],
   "source": [
    "\n",
    "def activating_asset(sid, itemType, productKey):\n",
    "    \n",
    "    id_url = 'https://api.planet.com/data/v1/item-types/{}/items/{}/assets'.format(itemType, sid)\n",
    "    # Returns JSON metadata for assets in this ID. Learn more: planet.com/docs/reference/data-api/items-assets/#asset\n",
    "    result = \\\n",
    "      requests.get(\n",
    "        id0_url,\n",
    "        auth=HTTPBasicAuth(API_KEY, '')\n",
    "      )\n",
    "\n",
    "    # Parse out useful links\n",
    "    links = result.json()[productKey][\"_links\"]\n",
    "    self_link = links[\"_self\"]\n",
    "    activation_link = links[\"activate\"]\n",
    "\n",
    "    # Request activation of the asset:\n",
    "    activate_result = \\\n",
    "      requests.get(\n",
    "        activation_link,\n",
    "        auth=HTTPBasicAuth(API_KEY, '')\n",
    "      )\n",
    "    \n",
    "    activation_status_result = \\\n",
    "      requests.get(\n",
    "        self_link,\n",
    "        auth=HTTPBasicAuth(API_KEY, '')\n",
    "      )\n",
    "\n",
    "    print(activation_status_result.json()[\"status\"])\n"
   ]
  },
  {
   "cell_type": "code",
   "execution_count": 49,
   "id": "029ecb0c",
   "metadata": {},
   "outputs": [
    {
     "name": "stdout",
     "output_type": "stream",
     "text": [
      "activating\n"
     ]
    }
   ],
   "source": [
    "activating_asset(image_ids[0], item_types[0], 'ortho_analytic_8b')"
   ]
  },
  {
   "cell_type": "code",
   "execution_count": 51,
   "id": "3d48405b",
   "metadata": {},
   "outputs": [
    {
     "name": "stdout",
     "output_type": "stream",
     "text": [
      "active\n",
      "active\n",
      "active\n",
      "active\n",
      "active\n",
      "active\n",
      "active\n",
      "active\n",
      "active\n",
      "active\n",
      "active\n",
      "active\n",
      "active\n",
      "active\n",
      "active\n",
      "active\n",
      "active\n",
      "active\n",
      "active\n",
      "active\n",
      "active\n",
      "active\n",
      "active\n",
      "active\n",
      "active\n",
      "active\n",
      "active\n",
      "active\n",
      "active\n",
      "active\n",
      "active\n",
      "active\n",
      "active\n",
      "active\n",
      "active\n",
      "active\n",
      "active\n",
      "active\n",
      "active\n",
      "active\n",
      "active\n",
      "active\n",
      "active\n",
      "active\n",
      "active\n",
      "active\n",
      "active\n",
      "active\n",
      "active\n",
      "active\n",
      "active\n",
      "active\n",
      "active\n",
      "active\n",
      "active\n",
      "active\n",
      "active\n",
      "active\n",
      "active\n",
      "active\n",
      "active\n",
      "active\n",
      "active\n",
      "active\n",
      "active\n",
      "active\n",
      "active\n",
      "active\n",
      "active\n",
      "active\n",
      "active\n",
      "active\n",
      "active\n",
      "active\n",
      "active\n",
      "active\n",
      "active\n",
      "active\n",
      "active\n",
      "active\n",
      "active\n",
      "active\n",
      "active\n",
      "active\n",
      "active\n",
      "active\n",
      "active\n",
      "active\n",
      "active\n",
      "active\n",
      "active\n",
      "active\n",
      "active\n",
      "active\n",
      "active\n",
      "active\n",
      "active\n",
      "active\n",
      "active\n",
      "active\n",
      "active\n",
      "active\n",
      "active\n",
      "active\n",
      "active\n",
      "active\n",
      "active\n",
      "active\n",
      "active\n",
      "active\n",
      "active\n",
      "active\n",
      "active\n",
      "active\n",
      "active\n",
      "active\n",
      "active\n",
      "active\n",
      "active\n",
      "active\n",
      "active\n",
      "active\n",
      "active\n",
      "active\n",
      "active\n",
      "active\n",
      "active\n",
      "active\n",
      "active\n",
      "active\n",
      "active\n",
      "active\n",
      "active\n",
      "active\n",
      "active\n",
      "active\n",
      "active\n",
      "active\n",
      "active\n",
      "active\n",
      "active\n",
      "active\n",
      "active\n",
      "active\n",
      "active\n",
      "active\n",
      "active\n",
      "active\n",
      "active\n",
      "active\n",
      "active\n",
      "active\n",
      "active\n",
      "active\n",
      "active\n",
      "active\n",
      "active\n",
      "active\n",
      "active\n",
      "active\n",
      "active\n",
      "active\n",
      "active\n",
      "active\n",
      "active\n",
      "active\n",
      "active\n",
      "active\n",
      "active\n",
      "active\n",
      "active\n",
      "active\n",
      "active\n",
      "active\n",
      "active\n",
      "active\n",
      "active\n",
      "active\n",
      "active\n",
      "active\n",
      "active\n",
      "active\n",
      "active\n",
      "active\n",
      "active\n",
      "active\n",
      "active\n",
      "active\n",
      "active\n",
      "active\n",
      "active\n",
      "active\n",
      "active\n",
      "active\n",
      "active\n",
      "active\n",
      "active\n",
      "active\n",
      "active\n",
      "active\n",
      "active\n",
      "active\n",
      "active\n",
      "active\n",
      "active\n",
      "active\n",
      "active\n",
      "active\n",
      "active\n",
      "active\n",
      "active\n",
      "active\n",
      "active\n",
      "active\n",
      "active\n",
      "active\n",
      "active\n",
      "active\n",
      "active\n",
      "active\n",
      "active\n",
      "active\n",
      "active\n",
      "active\n",
      "active\n",
      "active\n",
      "active\n",
      "active\n",
      "active\n",
      "active\n",
      "active\n",
      "active\n",
      "active\n",
      "active\n",
      "active\n",
      "active\n",
      "active\n",
      "active\n",
      "active\n",
      "active\n",
      "active\n",
      "active\n",
      "active\n",
      "active\n",
      "active\n",
      "active\n",
      "active\n",
      "active\n",
      "active\n",
      "active\n",
      "active\n",
      "active\n",
      "active\n",
      "active\n",
      "active\n",
      "active\n",
      "active\n",
      "active\n",
      "active\n",
      "active\n",
      "active\n",
      "active\n",
      "active\n",
      "active\n",
      "active\n",
      "active\n",
      "active\n",
      "active\n",
      "active\n",
      "active\n",
      "active\n",
      "active\n",
      "active\n",
      "active\n",
      "active\n",
      "active\n",
      "active\n",
      "active\n",
      "active\n",
      "active\n",
      "active\n",
      "active\n",
      "active\n",
      "active\n",
      "active\n",
      "active\n",
      "active\n",
      "active\n",
      "active\n",
      "active\n",
      "active\n",
      "active\n",
      "active\n",
      "active\n",
      "active\n",
      "active\n",
      "active\n",
      "active\n"
     ]
    }
   ],
   "source": [
    "allids = df.id.tolist()\n",
    "item_type = \"PSScene\"\n",
    "instruKey = \"ortho_analytic_8b\"\n",
    "\n",
    "for img_id in image_ids:\n",
    "    \n",
    "    id_status = activating_asset(img_id, item_types[0], 'ortho_analytic_8b')\n",
    "    \n",
    "    if id_status == 'active':\n",
    "        pl_download(img_id, item_type, instruKey, dataDir, filename=None)\n",
    "    else:\n",
    "        print('Scene id {} is not active'.format(sID))"
   ]
  },
  {
   "cell_type": "code",
   "execution_count": null,
   "id": "1ed1e231",
   "metadata": {},
   "outputs": [],
   "source": []
  },
  {
   "cell_type": "code",
   "execution_count": null,
   "id": "9a63403f",
   "metadata": {},
   "outputs": [],
   "source": []
  },
  {
   "cell_type": "code",
   "execution_count": null,
   "id": "79228125",
   "metadata": {},
   "outputs": [],
   "source": []
  },
  {
   "cell_type": "code",
   "execution_count": 11,
   "id": "422fa32b",
   "metadata": {},
   "outputs": [],
   "source": [
    "def get_pages(session, API_KEY):\n",
    "    \n",
    "    all_pages = list()\n",
    "    \n",
    "    # fire off the POST request\n",
    "    search_result = \\\n",
    "      requests.post(\n",
    "        'https://api.planet.com/data/v1/quick-search',\n",
    "        auth=HTTPBasicAuth(API_KEY, ''),\n",
    "        json=search_request)\n",
    "\n",
    "    geojson = search_result.json()\n",
    "    \n",
    "    \n",
    "    while geojson['_links']['_self'] != geojson['_links']['_next']: # when it's not to the final page\n",
    "        \n",
    "        all_pages.append(geojson['_links']['_self']) # adding the first page link\n",
    "        \n",
    "        next_page = geojson['_links']['_next']\n",
    "        next_info = session.get(next_page)\n",
    "        geojson = next_info.json()\n",
    "    \n",
    "    all_pages.append(geojson['_links']['_self'])\n",
    "    \n",
    "    return all_pages"
   ]
  },
  {
   "cell_type": "code",
   "execution_count": null,
   "id": "d57a5e5f",
   "metadata": {},
   "outputs": [],
   "source": []
  },
  {
   "cell_type": "code",
   "execution_count": null,
   "id": "00ba98c8",
   "metadata": {},
   "outputs": [],
   "source": []
  },
  {
   "cell_type": "code",
   "execution_count": null,
   "id": "d9ab720b",
   "metadata": {},
   "outputs": [],
   "source": []
  },
  {
   "cell_type": "markdown",
   "id": "b12b71cd",
   "metadata": {},
   "source": [
    "## Quick search"
   ]
  },
  {
   "cell_type": "code",
   "execution_count": 26,
   "id": "19b11007",
   "metadata": {},
   "outputs": [],
   "source": [
    "# Setup the quick search endpoint url\n",
    "quick_url = \"{}/quick-search\".format(URL)\n",
    "\n",
    "# Setup the request\n",
    "request = {\n",
    "    \"item_types\" : item_types,\n",
    "    \"filter\" : and_filter\n",
    "}\n",
    "\n",
    "# Send the POST request to the API quick search endpoint\n",
    "res = session.post(quick_url, json=request)\n",
    "\n",
    "# # Assign the response to a variable\n",
    "geojson = res.json()\n",
    "\n",
    "# # # Print the response\n",
    "# p(geojson)"
   ]
  },
  {
   "cell_type": "code",
   "execution_count": 27,
   "id": "da7ecd52",
   "metadata": {},
   "outputs": [
    {
     "name": "stdout",
     "output_type": "stream",
     "text": [
      "{\n",
      "  \"_first\": \"https://api.planet.com/data/v1/searches/08f589600725409aa83b86c6b675ebe1/results?_page=eyJwYWdlX3NpemUiOiAyNTAsICJzb3J0X2J5IjogInB1Ymxpc2hlZCIsICJzb3J0X2Rlc2MiOiB0cnVlLCAic29ydF9zdGFydCI6IG51bGwsICJzb3J0X2xhc3RfaWQiOiBudWxsLCAic29ydF9wcmV2IjogZmFsc2UsICJxdWVyeV9wYXJhbXMiOiB7fX0%3D\",\n",
      "  \"_next\": \"https://api.planet.com/data/v1/searches/08f589600725409aa83b86c6b675ebe1/results?_page=eyJwYWdlX3NpemUiOiAyNTAsICJzb3J0X2J5IjogInB1Ymxpc2hlZCIsICJzb3J0X2Rlc2MiOiB0cnVlLCAic29ydF9zdGFydCI6ICIyMDIxLTA3LTI1VDExOjI0OjM0LjAwMDAwMFoiLCAic29ydF9sYXN0X2lkIjogIjIwMjEwNzI0XzIzMTA0MV8yN18yNDYzIiwgInNvcnRfcHJldiI6IGZhbHNlLCAicXVlcnlfcGFyYW1zIjoge319\",\n",
      "  \"_self\": \"https://api.planet.com/data/v1/searches/08f589600725409aa83b86c6b675ebe1/results?_page=eyJwYWdlX3NpemUiOiAyNTAsICJzb3J0X2J5IjogInB1Ymxpc2hlZCIsICJzb3J0X2Rlc2MiOiB0cnVlLCAic29ydF9zdGFydCI6IG51bGwsICJzb3J0X2xhc3RfaWQiOiBudWxsLCAic29ydF9wcmV2IjogZmFsc2UsICJxdWVyeV9wYXJhbXMiOiB7fX0%3D\"\n",
      "}\n"
     ]
    }
   ],
   "source": [
    "# Print the response \"_links\" property\n",
    "p(geojson[\"_links\"])"
   ]
  },
  {
   "cell_type": "code",
   "execution_count": 28,
   "id": "b3a2250a",
   "metadata": {},
   "outputs": [
    {
     "name": "stdout",
     "output_type": "stream",
     "text": [
      "https://api.planet.com/data/v1/searches/08f589600725409aa83b86c6b675ebe1/results?_page=eyJwYWdlX3NpemUiOiAyNTAsICJzb3J0X2J5IjogInB1Ymxpc2hlZCIsICJzb3J0X2Rlc2MiOiB0cnVlLCAic29ydF9zdGFydCI6ICIyMDIxLTA3LTI1VDExOjI0OjM0LjAwMDAwMFoiLCAic29ydF9sYXN0X2lkIjogIjIwMjEwNzI0XzIzMTA0MV8yN18yNDYzIiwgInNvcnRfcHJldiI6IGZhbHNlLCAicXVlcnlfcGFyYW1zIjoge319\n"
     ]
    }
   ],
   "source": [
    "# Assign the \"_links\" -> \"_next\" property (link to next page of results) to a variable \n",
    "next_url = geojson[\"_links\"][\"_next\"]\n",
    "\n",
    "# Print the link to the next page of results\n",
    "print(next_url)"
   ]
  },
  {
   "cell_type": "code",
   "execution_count": 29,
   "id": "dc013bbc",
   "metadata": {},
   "outputs": [
    {
     "data": {
      "text/plain": [
       "10"
      ]
     },
     "execution_count": 29,
     "metadata": {},
     "output_type": "execute_result"
    }
   ],
   "source": [
    "# Send the POST request to the API quick search endpoint with a page size of 9\n",
    "res = session.post(quick_url, json=request, params={\"_page_size\" : 10})\n",
    "\n",
    "# Assign the response to a variable\n",
    "geojson = res.json()\n",
    "\n",
    "# Get the number of features present in the response\n",
    "len(geojson[\"features\"])"
   ]
  },
  {
   "cell_type": "code",
   "execution_count": 30,
   "id": "cda13221",
   "metadata": {},
   "outputs": [],
   "source": [
    "# Assign the url variable to display the geojsonio map\n",
    "url = geojsonio.display(res.text)"
   ]
  },
  {
   "cell_type": "code",
   "execution_count": 31,
   "id": "1d7fd04f",
   "metadata": {},
   "outputs": [],
   "source": [
    "# Assign the next_url variable to the next page of results from the response (Setup the next page of results)\n",
    "next_url = geojson[\"_links\"][\"_next\"]\n",
    "\n",
    "# Get the next page of results\n",
    "res = session.get(next_url)\n",
    "\n",
    "# Assign the response to a variable\n",
    "geojson = res.json()\n",
    "\n",
    "# Get the url see results on geojson.io\n",
    "url = geojsonio.to_geojsonio(res.text)"
   ]
  },
  {
   "cell_type": "code",
   "execution_count": null,
   "id": "af9b9c7d",
   "metadata": {},
   "outputs": [],
   "source": []
  },
  {
   "cell_type": "code",
   "execution_count": null,
   "id": "a971a134",
   "metadata": {},
   "outputs": [],
   "source": []
  },
  {
   "cell_type": "code",
   "execution_count": null,
   "id": "bd986332",
   "metadata": {},
   "outputs": [],
   "source": []
  },
  {
   "cell_type": "markdown",
   "id": "2b9def5d",
   "metadata": {},
   "source": [
    "# Get the feature information"
   ]
  },
  {
   "cell_type": "code",
   "execution_count": 44,
   "id": "d4ef32fa",
   "metadata": {},
   "outputs": [
    {
     "ename": "TypeError",
     "evalue": "'module' object is not subscriptable",
     "output_type": "error",
     "traceback": [
      "\u001b[0;31m---------------------------------------------------------------------------\u001b[0m",
      "\u001b[0;31mTypeError\u001b[0m                                 Traceback (most recent call last)",
      "\u001b[0;32m<ipython-input-44-dd7c841dbc8a>\u001b[0m in \u001b[0;36m<module>\u001b[0;34m\u001b[0m\n\u001b[1;32m      1\u001b[0m \u001b[0;31m# Assign a features variable\u001b[0m\u001b[0;34m\u001b[0m\u001b[0;34m\u001b[0m\u001b[0;34m\u001b[0m\u001b[0m\n\u001b[0;32m----> 2\u001b[0;31m \u001b[0mfeatures\u001b[0m \u001b[0;34m=\u001b[0m \u001b[0mgeojson\u001b[0m\u001b[0;34m[\u001b[0m\u001b[0;34m\"features\"\u001b[0m\u001b[0;34m]\u001b[0m\u001b[0;34m\u001b[0m\u001b[0;34m\u001b[0m\u001b[0m\n\u001b[0m\u001b[1;32m      3\u001b[0m \u001b[0;34m\u001b[0m\u001b[0m\n\u001b[1;32m      4\u001b[0m \u001b[0;31m# Get the number of features present in the response\u001b[0m\u001b[0;34m\u001b[0m\u001b[0;34m\u001b[0m\u001b[0;34m\u001b[0m\u001b[0m\n\u001b[1;32m      5\u001b[0m \u001b[0mlen\u001b[0m\u001b[0;34m(\u001b[0m\u001b[0mfeatures\u001b[0m\u001b[0;34m)\u001b[0m\u001b[0;34m\u001b[0m\u001b[0;34m\u001b[0m\u001b[0m\n",
      "\u001b[0;31mTypeError\u001b[0m: 'module' object is not subscriptable"
     ]
    }
   ],
   "source": [
    "# Assign a features variable \n",
    "features = geojson[\"features\"]\n",
    "\n",
    "# Get the number of features present in the response\n",
    "len(features)"
   ]
  },
  {
   "cell_type": "code",
   "execution_count": null,
   "id": "97eb8c83",
   "metadata": {},
   "outputs": [],
   "source": [
    "def exportMeta(feat):\n",
    "    \n",
    "    metadf = pd.DataFrame([feat['properties']])\n",
    "    metadf['id'] = feat['id']\n",
    "    \n",
    "    return metadf\n",
    "    \n",
    "    "
   ]
  },
  {
   "cell_type": "code",
   "execution_count": null,
   "id": "5b94bf51",
   "metadata": {},
   "outputs": [],
   "source": [
    "for i in range(0, len(features)):\n",
    "    \n",
    "    if i == 0:\n",
    "        df = exportMeta(features[i])\n",
    "    else:\n",
    "        tempdf = exportMeta(features[i])\n",
    "        df = pd.concat([df, tempdf])\n",
    "\n",
    "df = df.sort_values(by=['acquired'])\n",
    "df['date'] = df['id'].apply(lambda x: x.split('_')[0])\n",
    "df['hour_min_sec'] = df['id'].apply(lambda x: x.split('_')[1])\n",
    "df.to_csv('../data/processing_data/test.csv', index=False)"
   ]
  },
  {
   "cell_type": "code",
   "execution_count": null,
   "id": "8508f548",
   "metadata": {},
   "outputs": [],
   "source": []
  },
  {
   "cell_type": "markdown",
   "id": "fcbdf3c5",
   "metadata": {},
   "source": [
    "# Activate data for downloding"
   ]
  },
  {
   "cell_type": "code",
   "execution_count": null,
   "id": "00222622",
   "metadata": {},
   "outputs": [],
   "source": [
    "# extract image IDs only\n",
    "image_ids = [feature['id'] for feature in geojson['features']]\n",
    "print(image_ids)"
   ]
  },
  {
   "cell_type": "code",
   "execution_count": 11,
   "id": "19da539a",
   "metadata": {},
   "outputs": [],
   "source": [
    "def activating_asset(sid, itemType, productKey):\n",
    "    \n",
    "    id_url = 'https://api.planet.com/data/v1/item-types/{}/items/{}/assets'.format(itemType, sid)\n",
    "    # Returns JSON metadata for assets in this ID. Learn more: planet.com/docs/reference/data-api/items-assets/#asset\n",
    "    result = \\\n",
    "      requests.get(\n",
    "        id0_url,\n",
    "        auth=HTTPBasicAuth(API_KEY, '')\n",
    "      )\n",
    "\n",
    "    # Parse out useful links\n",
    "    links = result.json()[productKey][\"_links\"]\n",
    "    self_link = links[\"_self\"]\n",
    "    activation_link = links[\"activate\"]\n",
    "\n",
    "    # Request activation of the asset:\n",
    "    activate_result = \\\n",
    "      requests.get(\n",
    "        activation_link,\n",
    "        auth=HTTPBasicAuth(API_KEY, '')\n",
    "      )\n",
    "    \n",
    "    activation_status_result = \\\n",
    "      requests.get(\n",
    "        self_link,\n",
    "        auth=HTTPBasicAuth(API_KEY, '')\n",
    "      )\n",
    "\n",
    "    print(activation_status_result.json()[\"status\"])\n"
   ]
  },
  {
   "cell_type": "code",
   "execution_count": null,
   "id": "9ac2af27",
   "metadata": {},
   "outputs": [],
   "source": [
    "activating_asset(image_ids[1], item_types[0], 'ortho_analytic_8b')"
   ]
  },
  {
   "cell_type": "code",
   "execution_count": null,
   "id": "a9875e59",
   "metadata": {},
   "outputs": [],
   "source": [
    "import json\n",
    "import requests\n",
    "from requests.auth import HTTPBasicAuth\n",
    "\n",
    "# For demo purposes, just grab the first image ID\n",
    "id0 = image_ids[1]\n",
    "id0_url = 'https://api.planet.com/data/v1/item-types/{}/items/{}/assets'.format(item_types[0], id0)\n",
    "\n",
    "# Returns JSON metadata for assets in this ID. Learn more: planet.com/docs/reference/data-api/items-assets/#asset\n",
    "result = \\\n",
    "  requests.get(\n",
    "    id0_url,\n",
    "    auth=HTTPBasicAuth(API_KEY, '')\n",
    "  )\n",
    "\n",
    "# List of asset types available for this particular satellite image\n",
    "print(result.json().keys())\n"
   ]
  },
  {
   "cell_type": "code",
   "execution_count": null,
   "id": "116130b9",
   "metadata": {},
   "outputs": [],
   "source": [
    "# This is \"inactive\" if the \"ortho_analytic_4b\" asset has not yet been activated; otherwise 'active'\n",
    "print(result.json()['ortho_analytic_8b']['status'])"
   ]
  },
  {
   "cell_type": "code",
   "execution_count": null,
   "id": "f95d6b40",
   "metadata": {},
   "outputs": [],
   "source": [
    "# Parse out useful links\n",
    "links = result.json()[u\"ortho_analytic_8b\"][\"_links\"]\n",
    "self_link = links[\"_self\"]\n",
    "activation_link = links[\"activate\"]\n",
    "\n",
    "# Request activation of the 'ortho_analytic_4b' asset:\n",
    "activate_result = \\\n",
    "  requests.get(\n",
    "    activation_link,\n",
    "    auth=HTTPBasicAuth(API_KEY, '')\n",
    "  )"
   ]
  },
  {
   "cell_type": "code",
   "execution_count": null,
   "id": "bd012737",
   "metadata": {},
   "outputs": [],
   "source": [
    "activation_status_result = \\\n",
    "  requests.get(\n",
    "    self_link,\n",
    "    auth=HTTPBasicAuth(API_KEY, '')\n",
    "  )\n",
    "    \n",
    "print(activation_status_result.json()[\"status\"])"
   ]
  },
  {
   "cell_type": "code",
   "execution_count": null,
   "id": "16968144",
   "metadata": {},
   "outputs": [],
   "source": [
    "# Image can be downloaded by making a GET with your Planet API key, from here:\n",
    "download_link = activation_status_result.json()[\"location\"]\n",
    "print(download_link)"
   ]
  },
  {
   "cell_type": "code",
   "execution_count": null,
   "id": "dd5795ed",
   "metadata": {},
   "outputs": [],
   "source": []
  },
  {
   "cell_type": "code",
   "execution_count": null,
   "id": "b993dd85",
   "metadata": {},
   "outputs": [],
   "source": []
  },
  {
   "cell_type": "code",
   "execution_count": null,
   "id": "70ce2a3b",
   "metadata": {},
   "outputs": [],
   "source": []
  },
  {
   "cell_type": "code",
   "execution_count": 14,
   "id": "a8342c75",
   "metadata": {},
   "outputs": [
    {
     "name": "stdout",
     "output_type": "stream",
     "text": [
      "\"20230124_151413_43_2262\"\n",
      "[\n",
      "  \"assets.basic_analytic_4b:download\",\n",
      "  \"assets.basic_analytic_4b_rpc:download\",\n",
      "  \"assets.basic_analytic_4b_xml:download\",\n",
      "  \"assets.basic_analytic_8b:download\",\n",
      "  \"assets.basic_analytic_8b_xml:download\",\n",
      "  \"assets.basic_udm2:download\",\n",
      "  \"assets.ortho_analytic_4b:download\",\n",
      "  \"assets.ortho_analytic_4b_sr:download\",\n",
      "  \"assets.ortho_analytic_4b_xml:download\",\n",
      "  \"assets.ortho_analytic_8b:download\",\n",
      "  \"assets.ortho_analytic_8b_sr:download\",\n",
      "  \"assets.ortho_analytic_8b_xml:download\",\n",
      "  \"assets.ortho_udm2:download\",\n",
      "  \"assets.ortho_visual:download\"\n",
      "]\n"
     ]
    }
   ],
   "source": [
    "# Assign a variable to the search result features (items)\n",
    "features = geojson[\"features\"]\n",
    "\n",
    "# Get the first result's feature\n",
    "feature = features[0]\n",
    "\n",
    "# Print the ID\n",
    "p(feature[\"id\"])\n",
    "\n",
    "# Print the permissions\n",
    "p(feature[\"_permissions\"])"
   ]
  },
  {
   "cell_type": "code",
   "execution_count": 16,
   "id": "ef5a405b",
   "metadata": {},
   "outputs": [
    {
     "name": "stdout",
     "output_type": "stream",
     "text": [
      "https://api.planet.com/data/v1/item-types/PSScene/items/20230124_151413_43_2262/assets/\n"
     ]
    }
   ],
   "source": [
    "# Get the assets link for the item\n",
    "assets_url = feature[\"_links\"][\"assets\"]\n",
    "\n",
    "# Print the assets link\n",
    "print(assets_url)"
   ]
  },
  {
   "cell_type": "code",
   "execution_count": 17,
   "id": "cc069afb",
   "metadata": {},
   "outputs": [],
   "source": [
    "# Send a GET request to the assets url for the item (Get the list of available assets for the item)\n",
    "res = session.get(assets_url)\n",
    "\n",
    "# Assign a variable to the response\n",
    "assets = res.json()"
   ]
  },
  {
   "cell_type": "code",
   "execution_count": null,
   "id": "0875b7ac",
   "metadata": {},
   "outputs": [],
   "source": [
    "# Print the asset types that are available\n",
    "print(assets.keys())"
   ]
  },
  {
   "cell_type": "code",
   "execution_count": null,
   "id": "0656c7d6",
   "metadata": {},
   "outputs": [],
   "source": [
    "# Assign a variable to the visual asset from the item's assets\n",
    "ortho_analytic8b = assets[\"ortho_analytic_8b_sr\"]\n",
    "\n",
    "# Print the visual asset data\n",
    "p(ortho_analytic8b)"
   ]
  },
  {
   "cell_type": "code",
   "execution_count": null,
   "id": "8bfc70d7",
   "metadata": {},
   "outputs": [],
   "source": [
    "# Setup the activation url for a particular asset (in this case the basic_analytic_4b asset)\n",
    "activation_url = ortho_analytic8b[\"_links\"][\"activate\"]\n",
    "\n",
    "# Send a request to the activation url to activate the item\n",
    "res = session.get(activation_url)\n",
    "\n",
    "# Print the response from the activation request\n",
    "p(res.status_code)"
   ]
  },
  {
   "cell_type": "code",
   "execution_count": null,
   "id": "c8485aa2",
   "metadata": {},
   "outputs": [],
   "source": [
    "asset_activated = False\n",
    "\n",
    "while asset_activated == False:\n",
    "    # Send a request to the item's assets url\n",
    "    res = session.get(assets_url)\n",
    "\n",
    "    # Assign a variable to the item's assets url response\n",
    "    assets = res.json()\n",
    "\n",
    "    # Assign a variable to the basic_analytic_4b asset from the response\n",
    "    visual = assets[\"ortho_analytic_8b_sr\"]\n",
    "\n",
    "    asset_status = ortho_analytic8b[\"status\"]\n",
    "    print(asset_status)\n",
    "    \n",
    "    # If asset is already active, we are done\n",
    "    if asset_status == 'active':\n",
    "        asset_activated = True\n",
    "        print(\"Asset is active and ready to download\")\n",
    "\n",
    "# Print the asset data    \n",
    "p(ortho_analytic8b)"
   ]
  },
  {
   "cell_type": "markdown",
   "id": "fe3d6f30",
   "metadata": {},
   "source": [
    "# Downloading"
   ]
  },
  {
   "cell_type": "code",
   "execution_count": null,
   "id": "75b35770",
   "metadata": {},
   "outputs": [],
   "source": [
    "# Assign a variable to the visual asset's location endpoint\n",
    "location_url = ortho_analytic8b[\"location\"]\n",
    "\n",
    "# Print the location endpoint\n",
    "print(location_url)"
   ]
  },
  {
   "cell_type": "code",
   "execution_count": null,
   "id": "4caabb47",
   "metadata": {},
   "outputs": [],
   "source": [
    "# Create a function to download asset files\n",
    "# Parameters: \n",
    "# - url (the location url)\n",
    "# - filename (the filename to save it as. defaults to whatever the file is called originally)\n",
    "\n",
    "def pl_download(url, filename=None):\n",
    "    \n",
    "    # Send a GET request to the provided location url, using your API Key for authentication\n",
    "    res = requests.get(url, stream=True, auth=(API_KEY, \"\"))\n",
    "    # If no filename argument is given\n",
    "    if not filename:\n",
    "        # Construct a filename from the API response\n",
    "        if \"content-disposition\" in res.headers:\n",
    "            filename = res.headers[\"content-disposition\"].split(\"filename=\")[-1].strip(\"'\\\"\")\n",
    "        # Construct a filename from the location url\n",
    "        else:\n",
    "            filename = url.split(\"=\")[1][:10]\n",
    "    # Save the file\n",
    "    with open('output/' + filename, \"wb\") as f:\n",
    "        for chunk in res.iter_content(chunk_size=1024):\n",
    "            if chunk: # filter out keep-alive new chunks\n",
    "                f.write(chunk)\n",
    "                f.flush()\n",
    "\n",
    "    return filename\n",
    "\n",
    "# Download the file from an activated asset's location url\n",
    "# pl_download(location_url)"
   ]
  },
  {
   "cell_type": "code",
   "execution_count": null,
   "id": "8e613312",
   "metadata": {},
   "outputs": [],
   "source": []
  },
  {
   "cell_type": "code",
   "execution_count": null,
   "id": "27199f5c",
   "metadata": {},
   "outputs": [],
   "source": []
  },
  {
   "cell_type": "code",
   "execution_count": null,
   "id": "d4bbfb6a",
   "metadata": {},
   "outputs": [],
   "source": []
  },
  {
   "cell_type": "code",
   "execution_count": null,
   "id": "9a2df46b",
   "metadata": {},
   "outputs": [],
   "source": []
  },
  {
   "cell_type": "code",
   "execution_count": null,
   "id": "7bf7bb06",
   "metadata": {},
   "outputs": [],
   "source": []
  },
  {
   "cell_type": "code",
   "execution_count": null,
   "id": "250ecd0d",
   "metadata": {},
   "outputs": [],
   "source": []
  },
  {
   "cell_type": "code",
   "execution_count": null,
   "id": "d91f2213",
   "metadata": {},
   "outputs": [],
   "source": []
  }
 ],
 "metadata": {
  "kernelspec": {
   "display_name": "vims",
   "language": "python",
   "name": "vims"
  },
  "language_info": {
   "codemirror_mode": {
    "name": "ipython",
    "version": 3
   },
   "file_extension": ".py",
   "mimetype": "text/x-python",
   "name": "python",
   "nbconvert_exporter": "python",
   "pygments_lexer": "ipython3",
   "version": "3.7.10"
  }
 },
 "nbformat": 4,
 "nbformat_minor": 5
}
